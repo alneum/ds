{
  "nbformat": 4,
  "nbformat_minor": 0,
  "metadata": {
    "colab": {
      "name": "ds_nauka_o_d.ipynb",
      "provenance": [],
      "authorship_tag": "ABX9TyPaKU53D4Bfdm3ehGLwY7KR",
      "include_colab_link": true
    },
    "kernelspec": {
      "name": "python3",
      "display_name": "Python 3"
    },
    "language_info": {
      "name": "python"
    }
  },
  "cells": [
    {
      "cell_type": "markdown",
      "metadata": {
        "id": "view-in-github",
        "colab_type": "text"
      },
      "source": [
        "<a href=\"https://colab.research.google.com/github/alneum/ds/blob/main/ds_nauka_o_d.ipynb\" target=\"_parent\"><img src=\"https://colab.research.google.com/assets/colab-badge.svg\" alt=\"Open In Colab\"/></a>"
      ]
    },
    {
      "cell_type": "markdown",
      "metadata": {
        "id": "xFQmJa9xvP-p"
      },
      "source": [
        "Data Science: наука о данных с нуля"
      ]
    },
    {
      "cell_type": "markdown",
      "metadata": {
        "id": "wXSI89Xcvasp"
      },
      "source": [
        "Темы:\n",
        "\n",
        "1. Введение\n",
        "2. Интенсивный курс языка python\n",
        "3. Визуализация данных\n",
        "4. Линейная алгебра\n",
        "5. Статистика\n",
        "6. Теория вероятностей\n",
        "7. Гипотеза и вывод\n",
        "8. Градиентный спуск\n",
        "9. Сбор данных\n",
        "10. Обработка данных\n",
        "11. Машинное обучение\n",
        "12. К ближайших соседей\n",
        "13. Наивный Байес\n",
        "14. Простая линейная регрессия\n",
        "15. Множественная регрессия\n",
        "16. Логистическая регрессия\n",
        "17. Деревья принятия решений\n",
        "18. Нейронные сети\n",
        "19. Кластеризация\n",
        "20. Обработка естественного языка\n",
        "21. Анализ социальных сетей\n",
        "22. Рекомендательные системы\n",
        "23. Базы данных\n",
        "24. Распределенные вычисления"
      ]
    },
    {
      "cell_type": "markdown",
      "metadata": {
        "id": "EuzGMhF_xfZa"
      },
      "source": [
        "Глава 1."
      ]
    },
    {
      "cell_type": "code",
      "metadata": {
        "id": "WKHONubCvJfE"
      },
      "source": [
        "users = [\n",
        "         {\"id\": 0, \"name\": \"Hero\"},\n",
        "         {\"id\": 1, \"name\": \"Dunn\"},\n",
        "         {\"id\": 2, \"name\": \"Sue\"},\n",
        "         {\"id\": 3, \"name\": \"Chi\"},\n",
        "         {\"id\": 4, \"name\": \"Thor\"},\n",
        "         {\"id\": 5, \"name\": \"Clive\"},\n",
        "         {\"id\": 6, \"name\": \"Hicks\"},\n",
        "         {\"id\": 7, \"name\": \"Devin\"},\n",
        "         {\"id\": 8, \"name\": \"Kate\"},\n",
        "         {\"id\": 9, \"name\": \"Klein\"}\n",
        "\n",
        "]"
      ],
      "execution_count": 1,
      "outputs": []
    },
    {
      "cell_type": "code",
      "metadata": {
        "id": "eyjVaTwUyFfW"
      },
      "source": [
        "friendships = [(0, 1), (0, 2), (1, 2), (1, 3), (2, 3), (3, 4), \n",
        "               (4, 5), (5, 6), (5, 7), (6, 8), (7, 8), (8, 9)]"
      ],
      "execution_count": 2,
      "outputs": []
    },
    {
      "cell_type": "code",
      "metadata": {
        "id": "nCZ8kxEzylmu"
      },
      "source": [
        "#свойство friends содержит друзей для пользователя user\n",
        "\n",
        "for user in users:\n",
        "  user[\"friends\"] = []\n",
        "\n",
        "\n",
        "for i, j in friendships:\n",
        "  #это работает потому, что  users[i] - это пользователь, чей id равен i\n",
        "  users[i][\"friends\"].append(users[j])\n",
        "  users[j][\"friends\"].append(users[i])\n",
        "\n",
        "\n"
      ],
      "execution_count": 3,
      "outputs": []
    },
    {
      "cell_type": "code",
      "metadata": {
        "colab": {
          "base_uri": "https://localhost:8080/"
        },
        "id": "Bx5jCqX0zQQV",
        "outputId": "6691602f-ae2f-434d-f580-c45d862742c2"
      },
      "source": [
        "#число друзей\n",
        "\n",
        "def number_of_friends(user):\n",
        "  return len(user[\"friends\"])\n",
        "\n",
        "total_connections = sum(number_of_friends(user) for user in users)\n",
        "\n",
        "print(total_connections)"
      ],
      "execution_count": 6,
      "outputs": [
        {
          "output_type": "stream",
          "text": [
            "24\n"
          ],
          "name": "stdout"
        }
      ]
    },
    {
      "cell_type": "code",
      "metadata": {
        "colab": {
          "base_uri": "https://localhost:8080/"
        },
        "id": "oD9RVfFqz18w",
        "outputId": "055aed03-e6bf-4c1c-bc43-0a5191c5b1ef"
      },
      "source": [
        "num_users = len(users)\n",
        "avg_connections = total_connections / num_users\n",
        "print(avg_connections)"
      ],
      "execution_count": 10,
      "outputs": [
        {
          "output_type": "stream",
          "text": [
            "2.4\n"
          ],
          "name": "stdout"
        }
      ]
    },
    {
      "cell_type": "code",
      "metadata": {
        "id": "22-jlJtN0VBp"
      },
      "source": [
        ""
      ],
      "execution_count": null,
      "outputs": []
    }
  ]
}